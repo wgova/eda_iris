{
  "nbformat": 4,
  "nbformat_minor": 0,
  "metadata": {
    "colab": {
      "name": "jse_clusters",
      "provenance": [],
      "collapsed_sections": [],
      "mount_file_id": "1oADY4eUQ1D_4CQNsn7f_zZ08J5T5tgLI",
      "authorship_tag": "ABX9TyPv/etxLZHaCeRPVk4ABSU0",
      "include_colab_link": true
    },
    "kernelspec": {
      "name": "python3",
      "display_name": "Python 3"
    }
  },
  "cells": [
    {
      "cell_type": "markdown",
      "metadata": {
        "id": "view-in-github",
        "colab_type": "text"
      },
      "source": [
        "<a href=\"https://colab.research.google.com/github/wgova/kmeans-clustering/blob/master/jse_clusters.ipynb\" target=\"_parent\"><img src=\"https://colab.research.google.com/assets/colab-badge.svg\" alt=\"Open In Colab\"/></a>"
      ]
    },
    {
      "cell_type": "code",
      "metadata": {
        "id": "hTyGx5m527Vo",
        "colab_type": "code",
        "colab": {}
      },
      "source": [
        "from pylab import plot,show\n",
        "from numpy import vstack,array\n",
        "from numpy.random import rand\n",
        "import numpy as np\n",
        "from scipy.cluster.vq import kmeans,vq\n",
        "import pandas as pd\n",
        "import pandas_datareader as dr\n",
        "from math import sqrt\n",
        "from sklearn.cluster import KMeans\n",
        "from matplotlib import pyplot as plt\n",
        "import os"
      ],
      "execution_count": 0,
      "outputs": []
    },
    {
      "cell_type": "code",
      "metadata": {
        "id": "On2JbKuR2nxK",
        "colab_type": "code",
        "colab": {}
      },
      "source": [
        "PATH = '/content/drive/My Drive/git_projects/jse_blue_tickers'\n",
        "url = \"https://www.sashares.co.za/shares-list/#gs.5pxra9\"\n",
        "jse = pd.read_html(url)\n",
        "df_jse = jse[0]"
      ],
      "execution_count": 0,
      "outputs": []
    },
    {
      "cell_type": "code",
      "metadata": {
        "id": "bbBCpr6K1KpP",
        "colab_type": "code",
        "colab": {}
      },
      "source": [
        "df_jse.rename(columns={\"JSE Code\":\"jse_code\",\n",
        "                       \"Short Name\":\"name\",\n",
        "                       \"Market Cap\":\"market_cap\",\n",
        "                       \"Next Results\":\"results\"},inplace=True)\n",
        "df_jse[['jse_code','name']].astype(\"category\")\n",
        "print(df_jse.columns)\n",
        "\n",
        "exclude = [\"BIK\",\"IMCB22\",\"CHP\",\"CVW\",\"ECSB10\",\"ECSB11\",\"ERN\",\"ESCB9\",'FDP',\"FSE\",\"GRF\",\"HWA\",\"MED\",\"MRI\",\"RDI\",\"TCS\"]\n",
        "jse_list = df_jse[~df_jse['jse_code'].isin(exclude)]\n",
        "\n",
        "jse = list(jse_list[\"jse_code\"])\n",
        "for i in range(0,len(jse)):\n",
        "  jse[i]=jse[i]+\".JO\"\n",
        "jse[0]"
      ],
      "execution_count": 0,
      "outputs": []
    },
    {
      "cell_type": "code",
      "metadata": {
        "id": "7wHDLMnQ6AFX",
        "colab_type": "code",
        "colab": {}
      },
      "source": [
        "%%time\n",
        "tickers = jse\n",
        "prices_list = []\n",
        "for ticker in tickers:\n",
        "    try:\n",
        "        prices = dr.DataReader(ticker,'yahoo','01/01/2009')['Adj Close']\n",
        "        prices = pd.DataFrame(prices)\n",
        "        prices.columns = [ticker]\n",
        "        prices_list.append(prices)\n",
        "    except:\n",
        "        pass\n",
        "    prices_df = pd.concat(prices_list,axis=1)\n",
        "prices_df.sort_index(inplace=True)"
      ],
      "execution_count": 0,
      "outputs": []
    },
    {
      "cell_type": "code",
      "metadata": {
        "id": "pq6H-k3nx832",
        "colab_type": "code",
        "colab": {}
      },
      "source": [
        "# dropping tickers missing 1 year of data\n",
        "prices_df.dropna(thresh=250,axis=1)\n",
        "# prices = pd.melt(prices_df).rename(columns={\"variable\":\"ticker\",\"value\":\"price\"})\n",
        "# prices.ticker.ravel()"
      ],
      "execution_count": 0,
      "outputs": []
    },
    {
      "cell_type": "code",
      "metadata": {
        "id": "y6fzsJKfZRl_",
        "colab_type": "code",
        "colab": {}
      },
      "source": [
        "## remove all columns >=0.1\n",
        "# exclude_prices = prices_df.loc[:, prices_df.isnull().mean() < .001]\n",
        "# prices.isnull().sum()"
      ],
      "execution_count": 0,
      "outputs": []
    },
    {
      "cell_type": "code",
      "metadata": {
        "id": "KIDlbbed07os",
        "colab_type": "code",
        "colab": {}
      },
      "source": [
        "returns = prices_df.pct_change().mean() * 252\n",
        "returns = pd.DataFrame(returns)\n",
        "returns.columns = ['Returns']\n",
        "returns['Volatility'] = prices_df.pct_change().std() * sqrt(252)\n",
        "returns.dropna(axis=0,inplace=True)\n",
        "#format the data as a numpy array to feed into the K-Means algorithm\n",
        "returns.head()"
      ],
      "execution_count": 0,
      "outputs": []
    },
    {
      "cell_type": "code",
      "metadata": {
        "id": "2P7w6QU87yc5",
        "colab_type": "code",
        "colab": {}
      },
      "source": [
        "data = np.asarray([np.asarray(returns['Returns']),np.asarray(returns['Volatility'])]).T\n",
        "X = data\n",
        "distorsions = []\n",
        "for k in range(2, 20):\n",
        "    k_means = KMeans(n_clusters=k)\n",
        "    k_means.fit(X)\n",
        "    distorsions.append(k_means.inertia_)\n",
        "fig = plt.figure(figsize=(15, 5))\n",
        "plt.plot(range(2, 20), distorsions)\n",
        "plt.grid(True)\n",
        "plt.title('Elbow curve')\n",
        "plt.show()"
      ],
      "execution_count": 0,
      "outputs": []
    },
    {
      "cell_type": "code",
      "metadata": {
        "id": "wLyNpdkWOn39",
        "colab_type": "code",
        "colab": {}
      },
      "source": [
        "returns.isnull().sum()"
      ],
      "execution_count": 0,
      "outputs": []
    },
    {
      "cell_type": "code",
      "metadata": {
        "id": "XSs63VLwNoAv",
        "colab_type": "code",
        "colab": {}
      },
      "source": [
        "# computing K-Means with K = 5 (5 clusters)\n",
        "centroids,_ = kmeans(data,5)\n",
        "# assign each sample to a cluster\n",
        "idx,_ = vq(data,centroids)\n",
        "# some plotting using numpy's logical indexing\n",
        "plot(data[idx==0,0],data[idx==0,1],'ob',\n",
        "     data[idx==1,0],data[idx==1,1],'oy',\n",
        "     data[idx==2,0],data[idx==2,1],'or',\n",
        "     data[idx==3,0],data[idx==3,1],'og',\n",
        "     data[idx==4,0],data[idx==4,1],'om')\n",
        "plot(centroids[:,0],centroids[:,1],'sg',markersize=8)\n",
        "plt.show()"
      ],
      "execution_count": 0,
      "outputs": []
    },
    {
      "cell_type": "code",
      "metadata": {
        "id": "Fw9nxpVlN9Ih",
        "colab_type": "code",
        "colab": {}
      },
      "source": [
        "details = [(name,cluster) for name, cluster in zip(returns.index,idx)]\n",
        "# for detail in details:\n",
        "#     print(detail)\n",
        "\n",
        "d = pd.DataFrame(details,columns=['names','cluster'])\n",
        "d['names'].astype('category')\n",
        "\n",
        "x = returns.reset_index()\n",
        "x = x.rename(columns={'index':'names'})\n",
        "x.names.astype('category')\n",
        "z = pd.merge(x,d,how='inner', on='names')\n",
        "import seaborn as sns\n",
        "sns.pairplot(z, hue='cluster')\n",
        "piv = pd.pivot(z,columns='cluster',values='Returns')\n",
        "piv.plot(subplots=True)"
      ],
      "execution_count": 0,
      "outputs": []
    },
    {
      "cell_type": "code",
      "metadata": {
        "id": "bKEZ4m4QOJPR",
        "colab_type": "code",
        "colab": {}
      },
      "source": [
        ""
      ],
      "execution_count": 0,
      "outputs": []
    }
  ]
}